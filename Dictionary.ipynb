{
 "cells": [
  {
   "cell_type": "code",
   "execution_count": 1,
   "id": "941671a3-913a-42da-b7fd-2010c8e628df",
   "metadata": {},
   "outputs": [],
   "source": [
    "# miss sumaira didn't send data. please follow up."
   ]
  },
  {
   "cell_type": "code",
   "execution_count": 3,
   "id": "92d210b0-1668-4b32-9b95-6e0bcbe11d95",
   "metadata": {},
   "outputs": [],
   "source": [
    "fdict={'a':'apple','b':'banana','c':'cherry','d':'dragon'}"
   ]
  },
  {
   "cell_type": "code",
   "execution_count": 7,
   "id": "df3d00a0-92e0-4fa8-ac24-6968022ed095",
   "metadata": {},
   "outputs": [
    {
     "data": {
      "text/plain": [
       "'apple'"
      ]
     },
     "execution_count": 7,
     "metadata": {},
     "output_type": "execute_result"
    }
   ],
   "source": [
    "fdict['a']"
   ]
  },
  {
   "cell_type": "code",
   "execution_count": 8,
   "id": "79c60efa-79be-49ba-98d7-6393b59ee13c",
   "metadata": {},
   "outputs": [],
   "source": [
    "fdict['d']='dates'"
   ]
  },
  {
   "cell_type": "code",
   "execution_count": 9,
   "id": "c11b8829-db0a-4f12-8c6d-16abcd2459f3",
   "metadata": {},
   "outputs": [
    {
     "data": {
      "text/plain": [
       "{'a': 'apple', 'b': 'banana', 'c': 'cherry', 'd': 'dates'}"
      ]
     },
     "execution_count": 9,
     "metadata": {},
     "output_type": "execute_result"
    }
   ],
   "source": [
    "fdict"
   ]
  },
  {
   "cell_type": "code",
   "execution_count": 10,
   "id": "f9b8523e-e476-4f39-b025-a370bc20255b",
   "metadata": {},
   "outputs": [],
   "source": [
    "#in dictionary , its changeable   item value both."
   ]
  },
  {
   "cell_type": "code",
   "execution_count": 11,
   "id": "1a9ed8a6-c1ac-401c-85de-fef5222add31",
   "metadata": {},
   "outputs": [
    {
     "data": {
      "text/plain": [
       "{'a': 'apple', 'b': 'banana', 'c': 'cherry', 'd': 'dates'}"
      ]
     },
     "execution_count": 11,
     "metadata": {},
     "output_type": "execute_result"
    }
   ],
   "source": [
    "fdict"
   ]
  },
  {
   "cell_type": "code",
   "execution_count": 12,
   "id": "8451fa4b-43a0-4ccb-a171-8062b68bb620",
   "metadata": {},
   "outputs": [],
   "source": [
    "# in dict we can make list tuple dict also"
   ]
  },
  {
   "cell_type": "code",
   "execution_count": 18,
   "id": "add302b1-13f1-4814-880a-d3a8e172f2dc",
   "metadata": {},
   "outputs": [
    {
     "data": {
      "text/plain": [
       "['a', 'b']"
      ]
     },
     "execution_count": 18,
     "metadata": {},
     "output_type": "execute_result"
    }
   ],
   "source": [
    "newdic = {'name':['a','b']}\n",
    "newdic['name']"
   ]
  },
  {
   "cell_type": "code",
   "execution_count": 19,
   "id": "92ced978-4e31-4a66-8369-815f6d753054",
   "metadata": {},
   "outputs": [
    {
     "data": {
      "text/plain": [
       "{'apple': 0, 'banana': 0, 'cherr': 0}"
      ]
     },
     "execution_count": 19,
     "metadata": {},
     "output_type": "execute_result"
    }
   ],
   "source": [
    "new =dict.fromkeys(['apple','banana','cherr'], 0)\n",
    "new"
   ]
  },
  {
   "cell_type": "code",
   "execution_count": 20,
   "id": "a6e69f47-b15d-424f-bb5f-647460b0d4d9",
   "metadata": {},
   "outputs": [],
   "source": [
    "new['apple']=10"
   ]
  },
  {
   "cell_type": "code",
   "execution_count": 21,
   "id": "cd34e10a-05cb-495f-84f8-652373c7bff4",
   "metadata": {},
   "outputs": [
    {
     "data": {
      "text/plain": [
       "{'apple': 10, 'banana': 0, 'cherr': 0}"
      ]
     },
     "execution_count": 21,
     "metadata": {},
     "output_type": "execute_result"
    }
   ],
   "source": [
    "new"
   ]
  },
  {
   "cell_type": "code",
   "execution_count": 22,
   "id": "dcb53dc0-096f-489f-8ce5-86113dbf69a9",
   "metadata": {},
   "outputs": [
    {
     "data": {
      "text/plain": [
       "{'apple': 'm', 'banana': 0, 'cherr': 0}"
      ]
     },
     "execution_count": 22,
     "metadata": {},
     "output_type": "execute_result"
    }
   ],
   "source": [
    "new['apple']='m'\n",
    "new"
   ]
  },
  {
   "cell_type": "code",
   "execution_count": null,
   "id": "9af2e663-7a2a-4b0a-8bd7-3fb25d27a940",
   "metadata": {},
   "outputs": [],
   "source": [
    "# set are completed , its immuteable."
   ]
  }
 ],
 "metadata": {
  "kernelspec": {
   "display_name": "Python 3 (ipykernel)",
   "language": "python",
   "name": "python3"
  },
  "language_info": {
   "codemirror_mode": {
    "name": "ipython",
    "version": 3
   },
   "file_extension": ".py",
   "mimetype": "text/x-python",
   "name": "python",
   "nbconvert_exporter": "python",
   "pygments_lexer": "ipython3",
   "version": "3.13.7"
  }
 },
 "nbformat": 4,
 "nbformat_minor": 5
}
