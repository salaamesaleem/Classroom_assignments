{
 "cells": [
  {
   "cell_type": "code",
   "execution_count": 57,
   "id": "50baf862-4e12-4c16-ade6-1ea8a68deac2",
   "metadata": {},
   "outputs": [],
   "source": [
    "fruits = ['apple','banaa', 'cherry', 'stawberry', 'graps']\n"
   ]
  },
  {
   "cell_type": "code",
   "execution_count": 29,
   "id": "53d7b8ad-2570-4b37-9db9-52571f1c2384",
   "metadata": {},
   "outputs": [],
   "source": [
    "fruits.insert(2,'isksi')"
   ]
  },
  {
   "cell_type": "code",
   "execution_count": 30,
   "id": "caa6ae9b-b096-432d-b4b2-c03b695c2b72",
   "metadata": {},
   "outputs": [
    {
     "data": {
      "text/plain": [
       "['apple', 'banaa', 'isksi', 'cherry', 'stawberry', 'graps']"
      ]
     },
     "execution_count": 30,
     "metadata": {},
     "output_type": "execute_result"
    }
   ],
   "source": [
    "fruits"
   ]
  },
  {
   "cell_type": "code",
   "execution_count": 31,
   "id": "1b87a378-9234-4094-983d-62aeb195e5a7",
   "metadata": {},
   "outputs": [],
   "source": [
    "ages = [20, 30, 40 , 50]"
   ]
  },
  {
   "cell_type": "code",
   "execution_count": 32,
   "id": "49669707-86e0-4176-820b-f8d4c684e95e",
   "metadata": {},
   "outputs": [
    {
     "data": {
      "text/plain": [
       "['apple', 'banaa', 'isksi', 'cherry', 'stawberry', 'graps', 20, 30, 40, 50]"
      ]
     },
     "execution_count": 32,
     "metadata": {},
     "output_type": "execute_result"
    }
   ],
   "source": [
    "fruits + ages"
   ]
  },
  {
   "cell_type": "code",
   "execution_count": 33,
   "id": "6c85369b-f253-4d5c-9178-516a961ae89e",
   "metadata": {},
   "outputs": [
    {
     "data": {
      "text/plain": [
       "['apple', 'banaa', 'isksi', 'cherry', 'stawberry', 'graps', 20, 30, 40, 50]"
      ]
     },
     "execution_count": 33,
     "metadata": {},
     "output_type": "execute_result"
    }
   ],
   "source": [
    "combine = fruits + ages\n",
    "combine"
   ]
  },
  {
   "cell_type": "code",
   "execution_count": 34,
   "id": "920cda4c-d1ea-44fc-a562-7cab9ef96b28",
   "metadata": {},
   "outputs": [],
   "source": [
    "combine.append('sssyyy')"
   ]
  },
  {
   "cell_type": "code",
   "execution_count": 35,
   "id": "08ad7f62-b6d3-4e23-b8e3-6024c21339a4",
   "metadata": {},
   "outputs": [
    {
     "data": {
      "text/plain": [
       "['apple',\n",
       " 'banaa',\n",
       " 'isksi',\n",
       " 'cherry',\n",
       " 'stawberry',\n",
       " 'graps',\n",
       " 20,\n",
       " 30,\n",
       " 40,\n",
       " 50,\n",
       " 'sssyyy']"
      ]
     },
     "execution_count": 35,
     "metadata": {},
     "output_type": "execute_result"
    }
   ],
   "source": [
    "combine"
   ]
  },
  {
   "cell_type": "code",
   "execution_count": 36,
   "id": "71562c80-7e54-440f-a5c5-6519f6452b74",
   "metadata": {},
   "outputs": [],
   "source": [
    "fruits[2:5]=['a','b','c']"
   ]
  },
  {
   "cell_type": "code",
   "execution_count": 37,
   "id": "0bde86b4-f74e-4afd-8df7-132f7c8b222c",
   "metadata": {},
   "outputs": [
    {
     "data": {
      "text/plain": [
       "['apple', 'banaa', 'a', 'b', 'c', 'graps']"
      ]
     },
     "execution_count": 37,
     "metadata": {},
     "output_type": "execute_result"
    }
   ],
   "source": [
    "fruits"
   ]
  },
  {
   "cell_type": "code",
   "execution_count": 38,
   "id": "fb654866-51cb-4c9f-b1f4-1e566a2d3503",
   "metadata": {},
   "outputs": [],
   "source": [
    "fruits[0:4:2]=['aa','bb']"
   ]
  },
  {
   "cell_type": "raw",
   "id": "bd06d53d-6cc4-4c9a-9640-7d2b288634b5",
   "metadata": {},
   "source": [
    "fruits"
   ]
  },
  {
   "cell_type": "code",
   "execution_count": 39,
   "id": "3e2a228d-ea71-4dc4-9fb0-c998ecf7205c",
   "metadata": {},
   "outputs": [],
   "source": [
    "prod1=['mobile','cell','tele']"
   ]
  },
  {
   "cell_type": "code",
   "execution_count": 40,
   "id": "0ce1db93-8027-45a9-a8fc-f0a1be2ee668",
   "metadata": {},
   "outputs": [],
   "source": [
    "prod2=['a','b','c']"
   ]
  },
  {
   "cell_type": "code",
   "execution_count": 41,
   "id": "b30eb8f3-f81e-4750-8cca-d61666d74e11",
   "metadata": {},
   "outputs": [],
   "source": [
    "prod1.extend(prod2) # adding in prod1"
   ]
  },
  {
   "cell_type": "code",
   "execution_count": 42,
   "id": "4cff48a2-b8bc-4e62-850b-4810b533e1c9",
   "metadata": {},
   "outputs": [
    {
     "data": {
      "text/plain": [
       "['mobile', 'cell', 'tele', 'a', 'b', 'c']"
      ]
     },
     "execution_count": 42,
     "metadata": {},
     "output_type": "execute_result"
    }
   ],
   "source": [
    "prod1"
   ]
  },
  {
   "cell_type": "code",
   "execution_count": 43,
   "id": "7f0b7fba-5f41-45df-a61f-13001bede910",
   "metadata": {},
   "outputs": [],
   "source": [
    "p=prod1 + prod2"
   ]
  },
  {
   "cell_type": "code",
   "execution_count": 44,
   "id": "dba2c2bb-ab39-4c7c-842d-234d146d7412",
   "metadata": {},
   "outputs": [
    {
     "data": {
      "text/plain": [
       "['mobile', 'cell', 'tele', 'a', 'b', 'c', 'a', 'b', 'c']"
      ]
     },
     "execution_count": 44,
     "metadata": {},
     "output_type": "execute_result"
    }
   ],
   "source": [
    "p"
   ]
  },
  {
   "cell_type": "code",
   "execution_count": 45,
   "id": "ed3be8d4-15d2-4560-ba0c-6cbb06458ca6",
   "metadata": {},
   "outputs": [],
   "source": [
    "new = combine.insert(2,'sss')"
   ]
  },
  {
   "cell_type": "code",
   "execution_count": 46,
   "id": "a3a44d57-dc67-4f19-91d1-71b40273ee24",
   "metadata": {},
   "outputs": [
    {
     "name": "stdout",
     "output_type": "stream",
     "text": [
      "None\n"
     ]
    }
   ],
   "source": [
    "print(new)"
   ]
  },
  {
   "cell_type": "code",
   "execution_count": 47,
   "id": "bc00b318-0061-4b81-986c-be2e06a9e37a",
   "metadata": {},
   "outputs": [
    {
     "data": {
      "text/plain": [
       "['apple',\n",
       " 'banaa',\n",
       " 'sss',\n",
       " 'isksi',\n",
       " 'cherry',\n",
       " 'stawberry',\n",
       " 'graps',\n",
       " 20,\n",
       " 30,\n",
       " 40,\n",
       " 50,\n",
       " 'sssyyy']"
      ]
     },
     "execution_count": 47,
     "metadata": {},
     "output_type": "execute_result"
    }
   ],
   "source": [
    "combine"
   ]
  },
  {
   "cell_type": "code",
   "execution_count": 48,
   "id": "ec9e5335-b99f-435f-a7b1-c20ec36506c0",
   "metadata": {},
   "outputs": [
    {
     "data": {
      "text/plain": [
       "[40, 50]"
      ]
     },
     "execution_count": 48,
     "metadata": {},
     "output_type": "execute_result"
    }
   ],
   "source": [
    "combine[-3:-1]\n"
   ]
  },
  {
   "cell_type": "markdown",
   "id": "0ed9afc2-3f70-4f54-97d4-972ec00ed34d",
   "metadata": {},
   "source": [
    "combine.insert (2,'sta')"
   ]
  },
  {
   "cell_type": "code",
   "execution_count": 49,
   "id": "fccf03c6-4e43-4299-bb70-ef775909192d",
   "metadata": {},
   "outputs": [
    {
     "data": {
      "text/plain": [
       "['apple',\n",
       " 'banaa',\n",
       " 'sss',\n",
       " 'isksi',\n",
       " 'cherry',\n",
       " 'stawberry',\n",
       " 'graps',\n",
       " 20,\n",
       " 30,\n",
       " 40,\n",
       " 50,\n",
       " 'sssyyy']"
      ]
     },
     "execution_count": 49,
     "metadata": {},
     "output_type": "execute_result"
    }
   ],
   "source": [
    "combine"
   ]
  },
  {
   "cell_type": "code",
   "execution_count": 50,
   "id": "7a49e3f8-6989-48f8-9a27-5b94e1ccf64a",
   "metadata": {},
   "outputs": [
    {
     "data": {
      "text/plain": [
       "'s'"
      ]
     },
     "execution_count": 50,
     "metadata": {},
     "output_type": "execute_result"
    }
   ],
   "source": [
    "combine[2][2]"
   ]
  },
  {
   "cell_type": "markdown",
   "id": "a28b08d6-13d9-44a8-82ff-ad3e368b54b3",
   "metadata": {},
   "source": [
    "combine[2]"
   ]
  },
  {
   "cell_type": "markdown",
   "id": "d3438511-9384-412d-9967-5eac6cf80ea6",
   "metadata": {},
   "source": [
    "combine[-3:-1]"
   ]
  },
  {
   "cell_type": "code",
   "execution_count": 51,
   "id": "5fe8dcfd-b3a4-4a55-a476-de49d3734774",
   "metadata": {},
   "outputs": [
    {
     "data": {
      "text/plain": [
       "['apple',\n",
       " 'banaa',\n",
       " 'sss',\n",
       " 'isksi',\n",
       " 'cherry',\n",
       " 'stawberry',\n",
       " 'graps',\n",
       " 20,\n",
       " 30,\n",
       " 40,\n",
       " 50,\n",
       " 'sssyyy']"
      ]
     },
     "execution_count": 51,
     "metadata": {},
     "output_type": "execute_result"
    }
   ],
   "source": [
    "combine"
   ]
  },
  {
   "cell_type": "code",
   "execution_count": 52,
   "id": "4ca13d06-68b2-43c8-8f14-598f4b082c92",
   "metadata": {},
   "outputs": [],
   "source": [
    "# remove          will ask item\n",
    "#pop            will ask index   for garbadge collection    we can add it later also"
   ]
  },
  {
   "cell_type": "code",
   "execution_count": 53,
   "id": "08b97bc3-608b-43a2-bd15-d4e5ab60bdab",
   "metadata": {},
   "outputs": [
    {
     "data": {
      "text/plain": [
       "['apple',\n",
       " 'banaa',\n",
       " 'sss',\n",
       " 'isksi',\n",
       " 'cherry',\n",
       " 'stawberry',\n",
       " 'graps',\n",
       " 20,\n",
       " 30,\n",
       " 40,\n",
       " 50,\n",
       " 'sssyyy']"
      ]
     },
     "execution_count": 53,
     "metadata": {},
     "output_type": "execute_result"
    }
   ],
   "source": [
    "combine"
   ]
  },
  {
   "cell_type": "code",
   "execution_count": 55,
   "id": "e2fce0ec-6ad6-48a3-84f1-d14f3d72b303",
   "metadata": {},
   "outputs": [
    {
     "ename": "TypeError",
     "evalue": "'<' not supported between instances of 'int' and 'str'",
     "output_type": "error",
     "traceback": [
      "\u001b[31m---------------------------------------------------------------------------\u001b[39m",
      "\u001b[31mTypeError\u001b[39m                                 Traceback (most recent call last)",
      "\u001b[36mCell\u001b[39m\u001b[36m \u001b[39m\u001b[32mIn[55]\u001b[39m\u001b[32m, line 1\u001b[39m\n\u001b[32m----> \u001b[39m\u001b[32m1\u001b[39m \u001b[43mcombine\u001b[49m\u001b[43m.\u001b[49m\u001b[43msort\u001b[49m\u001b[43m(\u001b[49m\u001b[43mreverse\u001b[49m\u001b[43m \u001b[49m\u001b[43m=\u001b[49m\u001b[43m \u001b[49m\u001b[38;5;28;43;01mTrue\u001b[39;49;00m\u001b[43m)\u001b[49m\n",
      "\u001b[31mTypeError\u001b[39m: '<' not supported between instances of 'int' and 'str'"
     ]
    }
   ],
   "source": [
    "combine.sort(reverse = True)"
   ]
  },
  {
   "cell_type": "code",
   "execution_count": 72,
   "id": "030b40d1-a3fd-4704-9815-3bafd590d1ec",
   "metadata": {},
   "outputs": [
    {
     "data": {
      "text/plain": [
       "['apple', 'banaa', 'cherry', 'stawberry', 'graps']"
      ]
     },
     "execution_count": 72,
     "metadata": {},
     "output_type": "execute_result"
    }
   ],
   "source": [
    "frt=['apple','banaa', 'cherry', 'stawberry', 'graps']\n",
    "org = frt\n",
    "org"
   ]
  },
  {
   "cell_type": "raw",
   "id": "ba2f7568-ae07-47e4-b173-2de8e3e08ef0",
   "metadata": {},
   "source": [
    "frt.append('melon')"
   ]
  },
  {
   "cell_type": "code",
   "execution_count": 73,
   "id": "d8038142-aca8-4367-ad92-8197b6cb01ee",
   "metadata": {},
   "outputs": [
    {
     "name": "stdout",
     "output_type": "stream",
     "text": [
      "['apple', 'banaa', 'cherry', 'stawberry', 'graps']\n"
     ]
    }
   ],
   "source": [
    "print(frt)"
   ]
  },
  {
   "cell_type": "code",
   "execution_count": 74,
   "id": "6ffccb15-94f4-4ac0-a630-d2dbacea605e",
   "metadata": {},
   "outputs": [],
   "source": [
    "# deep copy in list   , if list = list           ## shalow copy    with .copy()"
   ]
  },
  {
   "cell_type": "code",
   "execution_count": 75,
   "id": "75a794e5-f539-4d87-9b1f-0ec8e1308789",
   "metadata": {},
   "outputs": [],
   "source": [
    "frtveg = [[ ' apple ', 'bnana' ],['carrot', 'onion']]"
   ]
  },
  {
   "cell_type": "code",
   "execution_count": 82,
   "id": "018d478f-8dcb-42a4-a532-a66a4f78efb5",
   "metadata": {},
   "outputs": [
    {
     "data": {
      "text/plain": [
       "'a'"
      ]
     },
     "execution_count": 82,
     "metadata": {},
     "output_type": "execute_result"
    }
   ],
   "source": [
    "frtveg[0][0][1] # 2d list"
   ]
  },
  {
   "cell_type": "code",
   "execution_count": 83,
   "id": "7ffbfe32-eb44-4727-baed-f5d746f3ce86",
   "metadata": {},
   "outputs": [],
   "source": [
    "# index can be seen of list 2d 3d"
   ]
  },
  {
   "cell_type": "code",
   "execution_count": null,
   "id": "40803daa-44eb-4ef7-8bd4-27717b1a5a17",
   "metadata": {},
   "outputs": [],
   "source": []
  }
 ],
 "metadata": {
  "kernelspec": {
   "display_name": "Python 3 (ipykernel)",
   "language": "python",
   "name": "python3"
  },
  "language_info": {
   "codemirror_mode": {
    "name": "ipython",
    "version": 3
   },
   "file_extension": ".py",
   "mimetype": "text/x-python",
   "name": "python",
   "nbconvert_exporter": "python",
   "pygments_lexer": "ipython3",
   "version": "3.13.7"
  }
 },
 "nbformat": 4,
 "nbformat_minor": 5
}
