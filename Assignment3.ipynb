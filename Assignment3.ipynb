{
 "cells": [
  {
   "cell_type": "code",
   "execution_count": 10,
   "id": "cc5f09da-083d-47b9-a4ab-214c8a673bd3",
   "metadata": {},
   "outputs": [
    {
     "name": "stdin",
     "output_type": "stream",
     "text": [
      "Enter full name :  saleem ali\n"
     ]
    },
    {
     "name": "stdout",
     "output_type": "stream",
     "text": [
      "saleem ali Welcome to the Python assignment!\n",
      "Your name in uppercase: SALEEM ALI\n",
      "Your name in lowercase: saleem ali\n",
      "Length of your name:  10\n",
      "Name with hyphens:  saleem-ali\n"
     ]
    },
    {
     "name": "stdin",
     "output_type": "stream",
     "text": [
      "Enter birth year:  1986\n"
     ]
    },
    {
     "name": "stdout",
     "output_type": "stream",
     "text": [
      "Current year is 2025, so you are approximately 39 old.\n"
     ]
    }
   ],
   "source": [
    "full_name=input ('Enter full name : ')\n",
    "print(f'{full_name} Welcome to the Python assignment!')\n",
    "print('Your name in uppercase:',full_name.upper())\n",
    "print('Your name in lowercase:',full_name.lower())\n",
    "vfulname = str(full_name)\n",
    "print('Length of your name: ',len(vfulname))\n",
    "vvfulname =vfulname.replace(\" \",\"-\")\n",
    "print('Name with hyphens: ',vvfulname)\n",
    "trimname=vvfulname.lstrip()\n",
    "trimname=trimname.rstrip()\n",
    "age = input ('Enter birth year: ')\n",
    "age = int(age)\n",
    "agecalc = 2025 - age\n",
    "print (f'Current year is 2025, so you are approximately {agecalc} old.')"
   ]
  },
  {
   "cell_type": "code",
   "execution_count": 11,
   "id": "27262c94-59a7-42a0-9856-e15e42e84c6c",
   "metadata": {},
   "outputs": [
    {
     "name": "stdout",
     "output_type": "stream",
     "text": [
      "First fruit: apple\n",
      "Last fruit: mango\n",
      "Second fruit: banana\n",
      "First two fruit: ['apple', 'banana']\n",
      "Adding a new fruit...\n",
      "Updated list:  ['apple', 'banana', 'mango', 'strawberry']\n",
      "Removing one fruit...\n",
      "Removing one fruit:  ['apple', 'banana', 'strawberry']\n"
     ]
    },
    {
     "data": {
      "text/plain": [
       "3"
      ]
     },
     "execution_count": 11,
     "metadata": {},
     "output_type": "execute_result"
    }
   ],
   "source": [
    "frtlist = ['apple','banana','mango']\n",
    "print(f'First fruit: {frtlist[0]}')\n",
    "print(f'Last fruit: {frtlist[-1]}')\n",
    "print(f'Second fruit: {frtlist[1]}')\n",
    "print(f'First two fruit: {frtlist[0:2]}')\n",
    "print(f'Adding a new fruit...')\n",
    "frtlist.append('strawberry')\n",
    "print(f'Updated list: ', frtlist)\n",
    "print(f'Removing one fruit...')\n",
    "frtlist.remove('mango')\n",
    "print(f'Removing one fruit: ', frtlist)\n",
    "len(frtlist)"
   ]
  },
  {
   "cell_type": "code",
   "execution_count": 75,
   "id": "d68f664f-3689-4506-9561-b6407340c6a6",
   "metadata": {},
   "outputs": [
    {
     "name": "stdout",
     "output_type": "stream",
     "text": [
      "Creating a letters list from your full name...\n",
      "First 3 letters: ['j', 'o', 'h']\n",
      "Last 3 letters: ['d', 'o', 'e']\n",
      "Reconstructing name with some modifications...\n",
      "Modified name: JOHdoe\n"
     ]
    },
    {
     "name": "stdin",
     "output_type": "stream",
     "text": [
      "Enter 5 numbers (space-separated):  10 20 30 40 50\n"
     ]
    },
    {
     "name": "stdout",
     "output_type": "stream",
     "text": [
      "Sum of your numbers:  150\n",
      "Average of your number:  30.0\n"
     ]
    }
   ],
   "source": [
    "print(f'Creating a letters list from your full name...')\n",
    "full_name= 'johdoe'\n",
    "firstletters= list(full_name)\n",
    "firstletters1=firstletters[0:3]\n",
    "print(f'First 3 letters: {firstletters1}')\n",
    "\n",
    "lastletters=firstletters[-3:]\n",
    "print(f'Last 3 letters: {lastletters}') \n",
    "print(f'Reconstructing name with some modifications...')\n",
    "modify= \"\".join([word.upper() for word in firstletters1])\n",
    "modify1 = \"\".join([word.lower() for word in lastletters])\n",
    "print(f'Modified name: {modify}{modify1}')\n",
    "numbers=input('Enter 5 numbers (space-separated): ')\n",
    "newlist= list(map(int,numbers.split()))\n",
    "print('Sum of your numbers: ',sum(newlist))\n",
    "countof=len(newlist)\n",
    "avrg = sum(newlist)/countof\n",
    "print('Average of your number: ',avrg)\n"
   ]
  },
  {
   "cell_type": "code",
   "execution_count": null,
   "id": "e71d34d0-5cdf-4845-945d-f11f8f0c13d4",
   "metadata": {},
   "outputs": [],
   "source": []
  }
 ],
 "metadata": {
  "kernelspec": {
   "display_name": "Python 3 (ipykernel)",
   "language": "python",
   "name": "python3"
  },
  "language_info": {
   "codemirror_mode": {
    "name": "ipython",
    "version": 3
   },
   "file_extension": ".py",
   "mimetype": "text/x-python",
   "name": "python",
   "nbconvert_exporter": "python",
   "pygments_lexer": "ipython3",
   "version": "3.13.7"
  }
 },
 "nbformat": 4,
 "nbformat_minor": 5
}
