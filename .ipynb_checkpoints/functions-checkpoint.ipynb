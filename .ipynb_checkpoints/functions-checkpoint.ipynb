{
 "cells": [
  {
   "cell_type": "code",
   "execution_count": 1,
   "id": "dd21f67c-2414-4874-bffa-dc9d6603b024",
   "metadata": {},
   "outputs": [],
   "source": [
    "def hello():\n",
    "    print('cong')"
   ]
  },
  {
   "cell_type": "code",
   "execution_count": 2,
   "id": "0bff6952-41ba-41d2-b508-e812c3d3dd3e",
   "metadata": {},
   "outputs": [
    {
     "name": "stdout",
     "output_type": "stream",
     "text": [
      "cong\n"
     ]
    }
   ],
   "source": [
    "hello()"
   ]
  },
  {
   "cell_type": "code",
   "execution_count": 15,
   "id": "37ae478e-b1c0-4a34-a2c8-05afcfe0f04c",
   "metadata": {},
   "outputs": [],
   "source": [
    "def hello(name='saleem',age = 22):\n",
    "    print(name,age)\n"
   ]
  },
  {
   "cell_type": "code",
   "execution_count": 14,
   "id": "2aa17104-caed-4dc0-bab6-48ae22de3b67",
   "metadata": {},
   "outputs": [
    {
     "name": "stdout",
     "output_type": "stream",
     "text": [
      "saleem 22\n"
     ]
    }
   ],
   "source": [
    "\n",
    "hello()"
   ]
  },
  {
   "cell_type": "code",
   "execution_count": 35,
   "id": "475a7cdd-75c7-4c92-abb4-e4f7850eec26",
   "metadata": {},
   "outputs": [],
   "source": [
    "def hello(name: str ,age: 3) -> int:       # -> return type  defining with \" -> \"\n",
    "    print(name,age)"
   ]
  },
  {
   "cell_type": "code",
   "execution_count": 17,
   "id": "627dbf4d-1458-4034-94b3-cf6705012645",
   "metadata": {},
   "outputs": [
    {
     "ename": "TypeError",
     "evalue": "hello() missing 2 required positional arguments: 'name' and 'age'",
     "output_type": "error",
     "traceback": [
      "\u001b[31m---------------------------------------------------------------------------\u001b[39m",
      "\u001b[31mTypeError\u001b[39m                                 Traceback (most recent call last)",
      "\u001b[36mCell\u001b[39m\u001b[36m \u001b[39m\u001b[32mIn[17]\u001b[39m\u001b[32m, line 1\u001b[39m\n\u001b[32m----> \u001b[39m\u001b[32m1\u001b[39m \u001b[43mhello\u001b[49m\u001b[43m(\u001b[49m\u001b[43m)\u001b[49m\n",
      "\u001b[31mTypeError\u001b[39m: hello() missing 2 required positional arguments: 'name' and 'age'"
     ]
    }
   ],
   "source": [
    "hello()"
   ]
  },
  {
   "cell_type": "code",
   "execution_count": 21,
   "id": "321ae29a-b8e7-4370-ba70-545f6b6389fa",
   "metadata": {},
   "outputs": [],
   "source": [
    "def hello(name):\n",
    "    return f'helo h r u {name}'"
   ]
  },
  {
   "cell_type": "code",
   "execution_count": 23,
   "id": "471fa830-f724-4eae-afbd-026082840f74",
   "metadata": {},
   "outputs": [
    {
     "data": {
      "text/plain": [
       "'helo h r u s'"
      ]
     },
     "execution_count": 23,
     "metadata": {},
     "output_type": "execute_result"
    }
   ],
   "source": [
    "hello('s')"
   ]
  },
  {
   "cell_type": "code",
   "execution_count": 30,
   "id": "b3659c19-0a18-4a3d-8c04-8dfba751b469",
   "metadata": {},
   "outputs": [],
   "source": [
    "greet = hello('s') # due to return function"
   ]
  },
  {
   "cell_type": "code",
   "execution_count": 25,
   "id": "a6320cfd-7782-4b40-b35f-6da3511327a3",
   "metadata": {},
   "outputs": [
    {
     "data": {
      "text/plain": [
       "'helo h r u s'"
      ]
     },
     "execution_count": 25,
     "metadata": {},
     "output_type": "execute_result"
    }
   ],
   "source": [
    "greet"
   ]
  },
  {
   "cell_type": "code",
   "execution_count": 27,
   "id": "59c210c2-51a4-4b34-aa6d-b189b72fdbc5",
   "metadata": {},
   "outputs": [],
   "source": [
    "name : str = 's'"
   ]
  },
  {
   "cell_type": "code",
   "execution_count": 28,
   "id": "2d4e1ff7-d78f-4164-8045-ac4ea850f19e",
   "metadata": {},
   "outputs": [
    {
     "data": {
      "text/plain": [
       "'s'"
      ]
     },
     "execution_count": 28,
     "metadata": {},
     "output_type": "execute_result"
    }
   ],
   "source": [
    "name"
   ]
  },
  {
   "cell_type": "code",
   "execution_count": 39,
   "id": "c895dbc6-47b9-41a4-a222-87e1153c34a8",
   "metadata": {},
   "outputs": [],
   "source": [
    "def sum(a,b): # positional arguments\n",
    "    print('a ' , a)\n",
    "    print('b ', b)"
   ]
  },
  {
   "cell_type": "code",
   "execution_count": 40,
   "id": "f618dfbf-41b5-4479-94c7-5e3da5747847",
   "metadata": {},
   "outputs": [
    {
     "name": "stdout",
     "output_type": "stream",
     "text": [
      "a  2\n",
      "b  3\n"
     ]
    }
   ],
   "source": [
    "sum(2,3)"
   ]
  },
  {
   "cell_type": "code",
   "execution_count": 45,
   "id": "9a1ba0f4-b7f6-4ca7-bee2-d79fa505d3c3",
   "metadata": {},
   "outputs": [],
   "source": [
    "def sum(b=3,a=9): # positional arguments\n",
    "    print('a ' , a)\n",
    "    print('b ', b)"
   ]
  },
  {
   "cell_type": "code",
   "execution_count": 46,
   "id": "5377dadf-49c9-49b9-9b4a-3b242715630f",
   "metadata": {},
   "outputs": [
    {
     "name": "stdout",
     "output_type": "stream",
     "text": [
      "a  9\n",
      "b  3\n"
     ]
    }
   ],
   "source": [
    "sum()"
   ]
  },
  {
   "cell_type": "code",
   "execution_count": 47,
   "id": "c869ca15-f588-4b7a-9999-3abebb35e162",
   "metadata": {},
   "outputs": [],
   "source": [
    "# function with unlimited arguments"
   ]
  },
  {
   "cell_type": "code",
   "execution_count": 57,
   "id": "681c1b96-abac-4db3-9761-eed745335f7b",
   "metadata": {},
   "outputs": [],
   "source": [
    "def suma(*a):   # unlimited arguments\n",
    "    s = 0\n",
    "    for x in a:\n",
    "        s = s+x\n",
    "    return s"
   ]
  },
  {
   "cell_type": "code",
   "execution_count": 59,
   "id": "3407bdfa-e566-4b54-b32a-5f83da6747b4",
   "metadata": {},
   "outputs": [
    {
     "data": {
      "text/plain": [
       "77"
      ]
     },
     "execution_count": 59,
     "metadata": {},
     "output_type": "execute_result"
    }
   ],
   "source": [
    "suma(2,5,65,5)"
   ]
  },
  {
   "cell_type": "markdown",
   "id": "ffadb6b5-fc8c-4ef6-af6e-d7c3dc58fecc",
   "metadata": {},
   "source": [
    "# function with unlimited keywards"
   ]
  },
  {
   "cell_type": "code",
   "execution_count": 61,
   "id": "9703da4c-b7a0-4691-8d9f-bb8e5fe1ae46",
   "metadata": {},
   "outputs": [],
   "source": [
    "def sumb (**a):\n",
    "    print( a=5)"
   ]
  },
  {
   "cell_type": "markdown",
   "id": "702be842-8bf5-40e2-9c6e-97be966675cb",
   "metadata": {},
   "source": [
    "# recursive funtion"
   ]
  },
  {
   "cell_type": "code",
   "execution_count": 62,
   "id": "b6dfbdb0-2052-4a47-85cc-9a52ee881b7a",
   "metadata": {},
   "outputs": [],
   "source": [
    "def name(a): #dont run it\n",
    "    name(a)"
   ]
  },
  {
   "cell_type": "markdown",
   "id": "4a7951f5-d54d-4e5f-9949-2064014ef50b",
   "metadata": {},
   "source": [
    "# lambda function   to make s short function"
   ]
  },
  {
   "cell_type": "code",
   "execution_count": 68,
   "id": "81643e5b-12b5-4bcc-a210-2212b60821b5",
   "metadata": {},
   "outputs": [],
   "source": [
    "add = lambda x,y : x+y"
   ]
  },
  {
   "cell_type": "code",
   "execution_count": 69,
   "id": "a0e0372f-695d-4124-b446-e3cf513ab5ee",
   "metadata": {},
   "outputs": [
    {
     "data": {
      "text/plain": [
       "7"
      ]
     },
     "execution_count": 69,
     "metadata": {},
     "output_type": "execute_result"
    }
   ],
   "source": [
    "add (3,4)"
   ]
  },
  {
   "cell_type": "code",
   "execution_count": 70,
   "id": "9c74e6f2-cd7f-4a0e-9396-a77c5b166e14",
   "metadata": {},
   "outputs": [],
   "source": [
    "add = lambda x,y : [x for x in range(5)]"
   ]
  },
  {
   "cell_type": "code",
   "execution_count": 71,
   "id": "7cee3735-5744-4765-b862-b8e96e3df885",
   "metadata": {},
   "outputs": [
    {
     "data": {
      "text/plain": [
       "[0, 1, 2, 3, 4]"
      ]
     },
     "execution_count": 71,
     "metadata": {},
     "output_type": "execute_result"
    }
   ],
   "source": [
    "add(3,3)"
   ]
  },
  {
   "cell_type": "code",
   "execution_count": 72,
   "id": "148c0423-319c-42e2-98c3-343982d8ea38",
   "metadata": {},
   "outputs": [],
   "source": [
    "# map"
   ]
  },
  {
   "cell_type": "code",
   "execution_count": 81,
   "id": "bf2ef9c0-ab1c-43b3-8213-930ef3196e8a",
   "metadata": {},
   "outputs": [
    {
     "name": "stdout",
     "output_type": "stream",
     "text": [
      "[1, 4, 9]\n"
     ]
    }
   ],
   "source": [
    "numbers = [1,2,3]\n",
    "sn = map(lambda x: x**2 , numbers)\n",
    "print(list(sn))"
   ]
  },
  {
   "cell_type": "markdown",
   "id": "535db0a1-546f-4922-a553-61b6f9a567da",
   "metadata": {},
   "source": []
  }
 ],
 "metadata": {
  "kernelspec": {
   "display_name": "Python 3 (ipykernel)",
   "language": "python",
   "name": "python3"
  },
  "language_info": {
   "codemirror_mode": {
    "name": "ipython",
    "version": 3
   },
   "file_extension": ".py",
   "mimetype": "text/x-python",
   "name": "python",
   "nbconvert_exporter": "python",
   "pygments_lexer": "ipython3",
   "version": "3.13.7"
  }
 },
 "nbformat": 4,
 "nbformat_minor": 5
}
