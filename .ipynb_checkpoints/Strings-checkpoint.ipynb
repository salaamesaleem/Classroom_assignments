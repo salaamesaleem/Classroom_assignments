{
 "cells": [
  {
   "cell_type": "code",
   "execution_count": 14,
   "id": "05fbd4c5-7e58-44ea-a629-e3585dd4e673",
   "metadata": {},
   "outputs": [
    {
     "name": "stdout",
     "output_type": "stream",
     "text": [
      "hello\n"
     ]
    }
   ],
   "source": [
    "print ('hello')\n",
    "a='saleem'"
   ]
  },
  {
   "cell_type": "code",
   "execution_count": 15,
   "id": "25d11bc2-d644-4f24-a07f-7cf103624635",
   "metadata": {},
   "outputs": [
    {
     "name": "stdin",
     "output_type": "stream",
     "text": [
      "enter day number 5\n"
     ]
    },
    {
     "name": "stdout",
     "output_type": "stream",
     "text": [
      "5\n"
     ]
    }
   ],
   "source": [
    "x = int(input ('enter day number'))\n",
    "print (x)"
   ]
  },
  {
   "cell_type": "code",
   "execution_count": 16,
   "id": "2a45e44a-3627-45c1-9187-fe1d8c05b415",
   "metadata": {},
   "outputs": [
    {
     "name": "stdout",
     "output_type": "stream",
     "text": [
      "5\n"
     ]
    }
   ],
   "source": [
    "print(x)"
   ]
  },
  {
   "cell_type": "code",
   "execution_count": 17,
   "id": "096de563-3489-44e4-a3bc-41d680eea5b0",
   "metadata": {},
   "outputs": [
    {
     "name": "stdout",
     "output_type": "stream",
     "text": [
      "saleem\n"
     ]
    }
   ],
   "source": [
    "print(a)"
   ]
  },
  {
   "cell_type": "code",
   "execution_count": 18,
   "id": "ed9d2ad3-8102-471d-947b-534e5364cce6",
   "metadata": {},
   "outputs": [
    {
     "data": {
      "text/plain": [
       "int"
      ]
     },
     "execution_count": 18,
     "metadata": {},
     "output_type": "execute_result"
    }
   ],
   "source": [
    "type (x)"
   ]
  },
  {
   "cell_type": "code",
   "execution_count": 19,
   "id": "a0eff0a7-c433-464f-99c1-891273249a74",
   "metadata": {},
   "outputs": [
    {
     "name": "stdout",
     "output_type": "stream",
     "text": [
      "<class 'int'>\n"
     ]
    }
   ],
   "source": [
    "print (type(x))"
   ]
  },
  {
   "cell_type": "code",
   "execution_count": 20,
   "id": "18170dc7-85af-4104-850d-561f98f2626e",
   "metadata": {},
   "outputs": [
    {
     "data": {
      "text/plain": [
       "5"
      ]
     },
     "execution_count": 20,
     "metadata": {},
     "output_type": "execute_result"
    }
   ],
   "source": [
    "x"
   ]
  },
  {
   "cell_type": "code",
   "execution_count": 21,
   "id": "6ac85493-ff7a-4933-bc18-bb00b6e5e737",
   "metadata": {},
   "outputs": [
    {
     "data": {
      "text/plain": [
       "'muhammad kamran khan'"
      ]
     },
     "execution_count": 21,
     "metadata": {},
     "output_type": "execute_result"
    }
   ],
   "source": [
    "name= \"muhammad kamran khan\"\n",
    "name"
   ]
  },
  {
   "cell_type": "code",
   "execution_count": null,
   "id": "a331d222-9bcf-4a4b-866c-1f0f741fc3b6",
   "metadata": {},
   "outputs": [],
   "source": []
  },
  {
   "cell_type": "code",
   "execution_count": 22,
   "id": "0b0caf6e-380f-41d7-8384-30a0bf03dbe6",
   "metadata": {},
   "outputs": [
    {
     "data": {
      "text/plain": [
       "'u'"
      ]
     },
     "execution_count": 22,
     "metadata": {},
     "output_type": "execute_result"
    }
   ],
   "source": [
    "name[1]"
   ]
  },
  {
   "cell_type": "code",
   "execution_count": 23,
   "id": "6eb02337-8951-4353-835a-1a24f296fe32",
   "metadata": {},
   "outputs": [
    {
     "data": {
      "text/plain": [
       "'n'"
      ]
     },
     "execution_count": 23,
     "metadata": {},
     "output_type": "execute_result"
    }
   ],
   "source": [
    "name[-1]"
   ]
  },
  {
   "cell_type": "code",
   "execution_count": 24,
   "id": "27d27c86-79f6-4c19-b71c-f9c0fa7cdfdf",
   "metadata": {},
   "outputs": [],
   "source": [
    "# Slicing    ( perform always in farword direction )"
   ]
  },
  {
   "cell_type": "code",
   "execution_count": 25,
   "id": "31306c82-c663-4095-8520-44217838f652",
   "metadata": {},
   "outputs": [
    {
     "data": {
      "text/plain": [
       "'muhammad kamran k'"
      ]
     },
     "execution_count": 25,
     "metadata": {},
     "output_type": "execute_result"
    }
   ],
   "source": [
    "name[0:17:1] # jump of letter 3"
   ]
  },
  {
   "cell_type": "code",
   "execution_count": 26,
   "id": "e1ffb6db-da7f-474a-8c4c-883f387a9543",
   "metadata": {},
   "outputs": [
    {
     "data": {
      "text/plain": [
       "'khan'"
      ]
     },
     "execution_count": 26,
     "metadata": {},
     "output_type": "execute_result"
    }
   ],
   "source": [
    "name [16:20]"
   ]
  },
  {
   "cell_type": "code",
   "execution_count": 27,
   "id": "9aaf15e6-fc60-4b85-b723-096379183200",
   "metadata": {},
   "outputs": [
    {
     "data": {
      "text/plain": [
       "'kha'"
      ]
     },
     "execution_count": 27,
     "metadata": {},
     "output_type": "execute_result"
    }
   ],
   "source": [
    "name[-4:-1]"
   ]
  },
  {
   "cell_type": "code",
   "execution_count": 28,
   "id": "6cd31762-ba87-41f1-8c1a-ae6bf59348db",
   "metadata": {},
   "outputs": [
    {
     "data": {
      "text/plain": [
       "'khan'"
      ]
     },
     "execution_count": 28,
     "metadata": {},
     "output_type": "execute_result"
    }
   ],
   "source": [
    "name [ -4:]"
   ]
  },
  {
   "cell_type": "code",
   "execution_count": 29,
   "id": "73fbebbc-5607-4836-a0f2-91868d593b8f",
   "metadata": {},
   "outputs": [
    {
     "data": {
      "text/plain": [
       "''"
      ]
     },
     "execution_count": 29,
     "metadata": {},
     "output_type": "execute_result"
    }
   ],
   "source": [
    "name [-1:6]"
   ]
  },
  {
   "cell_type": "code",
   "execution_count": 30,
   "id": "993c5d8c-846f-4589-b82d-e76fd3704a94",
   "metadata": {},
   "outputs": [
    {
     "data": {
      "text/plain": [
       "'Muhammad kamran khan'"
      ]
     },
     "execution_count": 30,
     "metadata": {},
     "output_type": "execute_result"
    }
   ],
   "source": [
    "name.capitalize()"
   ]
  },
  {
   "cell_type": "code",
   "execution_count": 31,
   "id": "b9c3a787-5b95-4ba9-b0a9-89c3909c5210",
   "metadata": {},
   "outputs": [
    {
     "data": {
      "text/plain": [
       "<function str.partition(sep, /)>"
      ]
     },
     "execution_count": 31,
     "metadata": {},
     "output_type": "execute_result"
    }
   ],
   "source": [
    "name.partition"
   ]
  },
  {
   "cell_type": "code",
   "execution_count": 32,
   "id": "1d63a052-9ad6-4178-8752-ad4392fea09e",
   "metadata": {},
   "outputs": [],
   "source": [
    "#fname.capitalize()  # if veriable is not declared already then its not showing methods definition\n"
   ]
  },
  {
   "cell_type": "code",
   "execution_count": 33,
   "id": "e4dd74a2-0e48-406d-ab55-7e0214ca80a7",
   "metadata": {},
   "outputs": [
    {
     "data": {
      "text/plain": [
       "['', 'uha', '', 'ad ka', 'ran khan']"
      ]
     },
     "execution_count": 33,
     "metadata": {},
     "output_type": "execute_result"
    }
   ],
   "source": [
    "name.split(\"m\")"
   ]
  },
  {
   "cell_type": "code",
   "execution_count": 34,
   "id": "fc88903a-921a-4d07-83f5-ebfc5fd9e5fd",
   "metadata": {},
   "outputs": [],
   "source": [
    "words = name.split('m')"
   ]
  },
  {
   "cell_type": "code",
   "execution_count": 35,
   "id": "1291d4d2-c23d-4806-a71d-38e3cb74bcdf",
   "metadata": {},
   "outputs": [
    {
     "data": {
      "text/plain": [
       "'-uha--ad ka-ran khan'"
      ]
     },
     "execution_count": 35,
     "metadata": {},
     "output_type": "execute_result"
    }
   ],
   "source": [
    "'-'.join(words)"
   ]
  },
  {
   "cell_type": "code",
   "execution_count": 36,
   "id": "70bcdebb-576d-4c2b-9bc8-aa5f2d9619a5",
   "metadata": {},
   "outputs": [],
   "source": [
    "text = ' I am Kamran. I am an AI Engineer working in NCAI'"
   ]
  },
  {
   "cell_type": "code",
   "execution_count": 37,
   "id": "cb9564d5-bd50-467a-9cd8-835c9ab2d73a",
   "metadata": {},
   "outputs": [
    {
     "data": {
      "text/plain": [
       "22"
      ]
     },
     "execution_count": 37,
     "metadata": {},
     "output_type": "execute_result"
    }
   ],
   "source": [
    "text.find('AI')"
   ]
  },
  {
   "cell_type": "code",
   "execution_count": 38,
   "id": "22b0d18b-73ea-4558-b5fd-51dcc196a037",
   "metadata": {},
   "outputs": [
    {
     "data": {
      "text/plain": [
       "' I am Kamran. I am an AI developer working in NCAI'"
      ]
     },
     "execution_count": 38,
     "metadata": {},
     "output_type": "execute_result"
    }
   ],
   "source": [
    "text.replace ('Engineer', 'developer')"
   ]
  },
  {
   "cell_type": "code",
   "execution_count": 39,
   "id": "78d47702-0919-46ec-98ef-bfad6e7794d9",
   "metadata": {},
   "outputs": [],
   "source": [
    "text = text.replace ('Engineer','developer')"
   ]
  },
  {
   "cell_type": "code",
   "execution_count": 40,
   "id": "6999016a-287c-4839-aeec-2e7ca65d3a47",
   "metadata": {},
   "outputs": [
    {
     "data": {
      "text/plain": [
       "' I am Kamran. I am an AI developer working in NCAI'"
      ]
     },
     "execution_count": 40,
     "metadata": {},
     "output_type": "execute_result"
    }
   ],
   "source": [
    "text"
   ]
  },
  {
   "cell_type": "code",
   "execution_count": 41,
   "id": "1ead777c-87bd-4500-90b4-b5573bd6cde1",
   "metadata": {},
   "outputs": [
    {
     "data": {
      "text/plain": [
       "False"
      ]
     },
     "execution_count": 41,
     "metadata": {},
     "output_type": "execute_result"
    }
   ],
   "source": [
    "text.startswith('I')"
   ]
  },
  {
   "cell_type": "code",
   "execution_count": 42,
   "id": "6d26bd72-947c-475b-9922-b1b6864f4f78",
   "metadata": {},
   "outputs": [
    {
     "data": {
      "text/plain": [
       "True"
      ]
     },
     "execution_count": 42,
     "metadata": {},
     "output_type": "execute_result"
    }
   ],
   "source": [
    "text.endswith('AI')"
   ]
  },
  {
   "cell_type": "code",
   "execution_count": 43,
   "id": "04320a77-abc7-4a10-8470-26a55daa7676",
   "metadata": {},
   "outputs": [
    {
     "data": {
      "text/plain": [
       "' I am Kamran. I am an AI developer working in NCAI'"
      ]
     },
     "execution_count": 43,
     "metadata": {},
     "output_type": "execute_result"
    }
   ],
   "source": [
    "text"
   ]
  },
  {
   "cell_type": "code",
   "execution_count": 44,
   "id": "761d934f-ca20-4f48-aaea-3123f1c8ebe4",
   "metadata": {},
   "outputs": [
    {
     "data": {
      "text/plain": [
       "'IACN ni gnikrow repoleved IA na ma I .narmaK ma I '"
      ]
     },
     "execution_count": 44,
     "metadata": {},
     "output_type": "execute_result"
    }
   ],
   "source": [
    "text[::-1]"
   ]
  },
  {
   "cell_type": "code",
   "execution_count": 45,
   "id": "22b30000-9a1e-4fc5-9a9b-9b672866b56f",
   "metadata": {},
   "outputs": [
    {
     "data": {
      "text/plain": [
       "1.0"
      ]
     },
     "execution_count": 45,
     "metadata": {},
     "output_type": "execute_result"
    }
   ],
   "source": [
    "1.### is (identity) operator\n",
    "# in (membership) operator\n"
   ]
  },
  {
   "cell_type": "code",
   "execution_count": 46,
   "id": "83e40827-9ab9-4d54-bba4-19f554a03fb5",
   "metadata": {},
   "outputs": [],
   "source": [
    "# is operator\n",
    "x = 10\n",
    "y = 10"
   ]
  },
  {
   "cell_type": "code",
   "execution_count": 47,
   "id": "046616a6-3b32-4dac-8fd8-93e13f8864a3",
   "metadata": {},
   "outputs": [
    {
     "name": "stdout",
     "output_type": "stream",
     "text": [
      "140729333216456\n"
     ]
    }
   ],
   "source": [
    "print(id(x))"
   ]
  },
  {
   "cell_type": "code",
   "execution_count": 49,
   "id": "fe1cdd3b-7776-438b-8c21-669a5f868bc0",
   "metadata": {},
   "outputs": [
    {
     "name": "stdout",
     "output_type": "stream",
     "text": [
      "address of  140729333216456\n"
     ]
    }
   ],
   "source": [
    "print ('address of ' ,id(y))"
   ]
  },
  {
   "cell_type": "code",
   "execution_count": 53,
   "id": "e17c7670-1077-44ba-b083-dc208815defc",
   "metadata": {},
   "outputs": [],
   "source": [
    "name = 'kamran'\n",
    "lname = 'kamran'"
   ]
  },
  {
   "cell_type": "code",
   "execution_count": 54,
   "id": "d807acb8-b3ca-4793-ab9d-0495aead1e0b",
   "metadata": {},
   "outputs": [
    {
     "data": {
      "text/plain": [
       "2213003191776"
      ]
     },
     "execution_count": 54,
     "metadata": {},
     "output_type": "execute_result"
    }
   ],
   "source": [
    "id(name)"
   ]
  },
  {
   "cell_type": "code",
   "execution_count": 55,
   "id": "9063d592-3408-4d65-b585-ce0ca02a84af",
   "metadata": {},
   "outputs": [
    {
     "data": {
      "text/plain": [
       "2213003191776"
      ]
     },
     "execution_count": 55,
     "metadata": {},
     "output_type": "execute_result"
    }
   ],
   "source": [
    "id(lname)"
   ]
  },
  {
   "cell_type": "code",
   "execution_count": 56,
   "id": "4dd7a7f1-474e-4de8-a797-90f72bbc6abf",
   "metadata": {},
   "outputs": [],
   "source": [
    "name = name.replace('a','e')"
   ]
  },
  {
   "cell_type": "code",
   "execution_count": 57,
   "id": "b84318f8-fafc-4902-9125-ec49caf3c34d",
   "metadata": {},
   "outputs": [
    {
     "data": {
      "text/plain": [
       "'kemren'"
      ]
     },
     "execution_count": 57,
     "metadata": {},
     "output_type": "execute_result"
    }
   ],
   "source": [
    "name"
   ]
  },
  {
   "cell_type": "code",
   "execution_count": 58,
   "id": "d3c26997-068e-4a81-b82d-098646f768a0",
   "metadata": {},
   "outputs": [
    {
     "data": {
      "text/plain": [
       "2213001711696"
      ]
     },
     "execution_count": 58,
     "metadata": {},
     "output_type": "execute_result"
    }
   ],
   "source": [
    "id(name)"
   ]
  },
  {
   "cell_type": "code",
   "execution_count": 59,
   "id": "c172751d-bcb8-4a99-9b2d-0430f13b5e35",
   "metadata": {},
   "outputs": [
    {
     "data": {
      "text/plain": [
       "2213003191776"
      ]
     },
     "execution_count": 59,
     "metadata": {},
     "output_type": "execute_result"
    }
   ],
   "source": [
    "id(lname)"
   ]
  },
  {
   "cell_type": "code",
   "execution_count": 62,
   "id": "414a0831-b7f8-4be5-bf06-b270d6f4c4d2",
   "metadata": {},
   "outputs": [
    {
     "name": "stdout",
     "output_type": "stream",
     "text": [
      "True\n"
     ]
    }
   ],
   "source": [
    "print (x is y)   # comparing memory location"
   ]
  },
  {
   "cell_type": "code",
   "execution_count": 63,
   "id": "8604e9fb-f5f2-4771-a3ca-6b97964951ff",
   "metadata": {},
   "outputs": [
    {
     "data": {
      "text/plain": [
       "' I am Kamran. I am an AI developer working in NCAI'"
      ]
     },
     "execution_count": 63,
     "metadata": {},
     "output_type": "execute_result"
    }
   ],
   "source": [
    "text"
   ]
  },
  {
   "cell_type": "code",
   "execution_count": 66,
   "id": "749bbb65-3296-4b70-8ce5-77929bb911a8",
   "metadata": {},
   "outputs": [
    {
     "data": {
      "text/plain": [
       "True"
      ]
     },
     "execution_count": 66,
     "metadata": {},
     "output_type": "execute_result"
    }
   ],
   "source": [
    "# in operator\n",
    "'K' in text"
   ]
  },
  {
   "cell_type": "code",
   "execution_count": 67,
   "id": "83fc519e-4aa7-475a-be35-fcc9bdd01d11",
   "metadata": {},
   "outputs": [],
   "source": [
    "# string comparison"
   ]
  },
  {
   "cell_type": "code",
   "execution_count": 68,
   "id": "1db940e3-bd69-4049-8060-ad6c95a639dc",
   "metadata": {},
   "outputs": [
    {
     "data": {
      "text/plain": [
       "False"
      ]
     },
     "execution_count": 68,
     "metadata": {},
     "output_type": "execute_result"
    }
   ],
   "source": [
    "str1='apple'\n",
    "str2='bnana'\n",
    "str1 == str2"
   ]
  },
  {
   "cell_type": "code",
   "execution_count": 70,
   "id": "220391cd-fb3a-48a9-850f-0a2151e8d911",
   "metadata": {},
   "outputs": [],
   "source": [
    "# ascii code base"
   ]
  },
  {
   "cell_type": "code",
   "execution_count": 69,
   "id": "deccd4af-82e5-4e77-ac25-b04ace9291c5",
   "metadata": {},
   "outputs": [
    {
     "data": {
      "text/plain": [
       "True"
      ]
     },
     "execution_count": 69,
     "metadata": {},
     "output_type": "execute_result"
    }
   ],
   "source": [
    "'a' < 'b'"
   ]
  },
  {
   "cell_type": "code",
   "execution_count": 75,
   "id": "5fc9f2c8-55d6-495a-a317-078c296e29c4",
   "metadata": {},
   "outputs": [
    {
     "data": {
      "text/plain": [
       "97"
      ]
     },
     "execution_count": 75,
     "metadata": {},
     "output_type": "execute_result"
    }
   ],
   "source": [
    "ord('a')   # ordinary value of a\n",
    "\n",
    "\n",
    "\n"
   ]
  },
  {
   "cell_type": "code",
   "execution_count": 74,
   "id": "9a7a267c-8ecf-459c-b440-1987830421a4",
   "metadata": {},
   "outputs": [
    {
     "data": {
      "text/plain": [
       "'A'"
      ]
     },
     "execution_count": 74,
     "metadata": {},
     "output_type": "execute_result"
    }
   ],
   "source": [
    "chr (65)"
   ]
  },
  {
   "cell_type": "code",
   "execution_count": null,
   "id": "0c503111-fc18-4dfb-aea7-7390d203ca84",
   "metadata": {},
   "outputs": [],
   "source": []
  }
 ],
 "metadata": {
  "kernelspec": {
   "display_name": "Python 3 (ipykernel)",
   "language": "python",
   "name": "python3"
  },
  "language_info": {
   "codemirror_mode": {
    "name": "ipython",
    "version": 3
   },
   "file_extension": ".py",
   "mimetype": "text/x-python",
   "name": "python",
   "nbconvert_exporter": "python",
   "pygments_lexer": "ipython3",
   "version": "3.13.7"
  }
 },
 "nbformat": 4,
 "nbformat_minor": 5
}
