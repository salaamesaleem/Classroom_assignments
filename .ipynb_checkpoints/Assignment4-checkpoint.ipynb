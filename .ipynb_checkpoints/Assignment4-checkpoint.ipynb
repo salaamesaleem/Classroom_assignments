{
 "cells": [
  {
   "cell_type": "code",
   "execution_count": 1,
   "id": "e9e38e51-0022-48ba-bc4f-9ca8d9ab45d6",
   "metadata": {},
   "outputs": [],
   "source": [
    "# create a full arithmetic calculator\n",
    "# make 4 seprt files ( sum , minus , multiply and divid )\n",
    "# get input from user , also get operator\n",
    "# it should ask user to quit or not."
   ]
  },
  {
   "cell_type": "code",
   "execution_count": 2,
   "id": "a55a38a4-3e4e-4e63-96bc-29be1ae120ae",
   "metadata": {},
   "outputs": [],
   "source": [
    "def sum(*a):\n",
    "    l=[]\n",
    "    s = a + a\n",
    "    return s"
   ]
  },
  {
   "cell_type": "code",
   "execution_count": 3,
   "id": "f95efcbc-d85d-4e4c-be8f-d98c4d46d93b",
   "metadata": {},
   "outputs": [
    {
     "data": {
      "text/plain": [
       "(2, 3, 5, 2, 3, 5)"
      ]
     },
     "execution_count": 3,
     "metadata": {},
     "output_type": "execute_result"
    }
   ],
   "source": [
    "sum(2,3,5)"
   ]
  },
  {
   "cell_type": "code",
   "execution_count": null,
   "id": "0c39ca1f-c5d0-4e82-9c5a-261b69145aa2",
   "metadata": {},
   "outputs": [],
   "source": []
  }
 ],
 "metadata": {
  "kernelspec": {
   "display_name": "Python 3 (ipykernel)",
   "language": "python",
   "name": "python3"
  },
  "language_info": {
   "codemirror_mode": {
    "name": "ipython",
    "version": 3
   },
   "file_extension": ".py",
   "mimetype": "text/x-python",
   "name": "python",
   "nbconvert_exporter": "python",
   "pygments_lexer": "ipython3",
   "version": "3.13.7"
  }
 },
 "nbformat": 4,
 "nbformat_minor": 5
}
