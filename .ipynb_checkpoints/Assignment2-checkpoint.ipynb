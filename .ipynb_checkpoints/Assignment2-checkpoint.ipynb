{
 "cells": [
  {
   "cell_type": "markdown",
   "id": "60034f83-68d0-4c23-a02a-6cef90c3628d",
   "metadata": {},
   "source": [
    "Q1. Print a welcome message\n",
    "Write a Python program to print the message \"Welcome to Python Programming!\".\n",
    "\n",
    "Expected Output:\n",
    "Welcome to Python Programming!"
   ]
  },
  {
   "cell_type": "code",
   "execution_count": 1,
   "id": "725c4fe8-5636-49c4-9f45-e31124e07381",
   "metadata": {},
   "outputs": [
    {
     "name": "stdout",
     "output_type": "stream",
     "text": [
      "Welcome to Python Programming!\n"
     ]
    }
   ],
   "source": [
    "print('Welcome to Python Programming!')"
   ]
  },
  {
   "cell_type": "markdown",
   "id": "b93ffd00-44cb-4104-9e70-177003f2896b",
   "metadata": {},
   "source": [
    "Q2. Swap Two Variables\n",
    "Write a Python program that takes two numbers as input from the user and swaps them.\n",
    "\n",
    "Example Input:\n",
    "Enter first number: 5\n",
    "Enter second number: 10\n",
    "Expected Output:\n",
    "After swapping:\n",
    "First number: 10\n",
    "Second number: 5"
   ]
  },
  {
   "cell_type": "code",
   "execution_count": 6,
   "id": "b9e3fb5e-2693-40b3-a485-9620d693deda",
   "metadata": {},
   "outputs": [
    {
     "name": "stdin",
     "output_type": "stream",
     "text": [
      "enter 1st number:  2\n",
      "enter 2nd number:  6\n"
     ]
    },
    {
     "name": "stdout",
     "output_type": "stream",
     "text": [
      "After Swapping:\n",
      "First number:  6\n",
      "Second number:  2\n"
     ]
    }
   ],
   "source": [
    "x=0\n",
    "y=0\n",
    "x=input ( 'enter 1st number: ')\n",
    "y=input ( 'enter 2nd number: ')\n",
    "print ('After Swapping:')\n",
    "print ('First number: ',y)\n",
    "print ('Second number: ',x)"
   ]
  },
  {
   "cell_type": "markdown",
   "id": "3287fa56-9fbb-467a-942e-d90397563c40",
   "metadata": {},
   "source": [
    "'''Q3. Convert Temperature from Celsius to Fahrenheit\n",
    "Write a Python program that converts a temperature from Celsius to Fahrenheit using the formula:\n",
    "\n",
    "F = 9/5 * Celsius + 32\n",
    "\n",
    "Example Input:\n",
    "Enter temperature in Celsius: 25\n",
    "Expected Output:\n",
    "\n",
    "Temperature in Fahrenheit: 77.0'''"
   ]
  },
  {
   "cell_type": "code",
   "execution_count": 20,
   "id": "963188dc-48d9-48eb-af88-1469be9a082f",
   "metadata": {},
   "outputs": [
    {
     "name": "stdin",
     "output_type": "stream",
     "text": [
      "Enter temperature in Celsius:  25\n"
     ]
    },
    {
     "name": "stdout",
     "output_type": "stream",
     "text": [
      "Temperature in Fahrenheit:  77.0\n"
     ]
    }
   ],
   "source": [
    "a=(9/5)\n",
    "celsius = input ('Enter temperature in Celsius: ')\n",
    "c=32\n",
    "f = a*float(celsius)+32\n",
    "print ('Temperature in Fahrenheit: ', f)"
   ]
  },
  {
   "cell_type": "markdown",
   "id": "ff15998c-5f25-4f2a-ae10-a8f1f44ee61f",
   "metadata": {},
   "source": [
    "Q4. Calculate the Sum of Digits of a Three-Digit Number\n",
    "Write a Python program that takes a three-digit number as input and calculates the sum of its digits.\n",
    "\n",
    "Example Input:\n",
    "Enter a three-digit number: 345\n",
    "Expected Output:\n",
    "Sum of digits: 12"
   ]
  },
  {
   "cell_type": "code",
   "execution_count": 22,
   "id": "5e731128-13f9-4c7c-844b-620e74943092",
   "metadata": {},
   "outputs": [
    {
     "data": {
      "text/plain": [
       "12"
      ]
     },
     "execution_count": 22,
     "metadata": {},
     "output_type": "execute_result"
    }
   ],
   "source": [
    "numbers=str(345)\n",
    "numbers = int(numbers[0])+int(numbers[1])+int(numbers[2])\n",
    "numbers"
   ]
  },
  {
   "cell_type": "markdown",
   "id": "1b19f159-4caa-4fb4-9ad2-1c8b32b46093",
   "metadata": {},
   "source": [
    "Q5. Check Whether a Number is Even or Odd\n",
    "Write a Python program that takes an integer input and checks whether it is even or odd.\n",
    "\n",
    "Example Input:\n",
    "Enter a number: 8\n",
    "Expected Output:\n",
    "8 is an even number."
   ]
  },
  {
   "cell_type": "code",
   "execution_count": 37,
   "id": "08b6b76e-cc88-49b5-ba50-f6763fe69ec4",
   "metadata": {},
   "outputs": [
    {
     "name": "stdin",
     "output_type": "stream",
     "text": [
      "enter a number:  5\n"
     ]
    },
    {
     "name": "stdout",
     "output_type": "stream",
     "text": [
      "5 is not an even number.\n"
     ]
    }
   ],
   "source": [
    "askfornumber= input ('enter a number: ')\n",
    "if (int(askfornumber) % 2)==0 :\n",
    " \n",
    "    print ( askfornumber, 'is an even number.')\n",
    "else:\n",
    "    print (askfornumber, 'is not an even number.')"
   ]
  },
  {
   "cell_type": "markdown",
   "id": "d0bee7ee-4779-49a7-afc7-cd10e34b91f7",
   "metadata": {},
   "source": [
    "##### Q6. Find the Largest of Three Numbers\n",
    "Write a Python program that takes three numbers as input and determines the largest one.\n",
    "\n",
    "Example Input:\n",
    "Enter first number: 12\n",
    "Enter second number: 7\n",
    "Enter third number: 19\n",
    "Expected Output:\n",
    "Largest number: 19"
   ]
  },
  {
   "cell_type": "code",
   "execution_count": 64,
   "id": "62ed4ba0-e7f6-43eb-ac70-3de6157bf931",
   "metadata": {},
   "outputs": [
    {
     "name": "stdin",
     "output_type": "stream",
     "text": [
      "Enter first number:  5\n",
      "Enter second number:  9\n",
      "Enter third number:  1\n"
     ]
    },
    {
     "data": {
      "text/plain": [
       "9"
      ]
     },
     "execution_count": 64,
     "metadata": {},
     "output_type": "execute_result"
    }
   ],
   "source": [
    "first =int(input ('Enter first number: '))\n",
    "second =int(input ('Enter second number: '))\n",
    "third =int(input ('Enter third number: '))\n",
    "\n",
    "\n",
    "list = [first,second,third]\n",
    "list.sort()\n",
    "list\n",
    "list=list.pop(-1)\n",
    "list"
   ]
  },
  {
   "cell_type": "code",
   "execution_count": null,
   "id": "7abdb3c8-4557-437f-8a21-55351c49ca7e",
   "metadata": {},
   "outputs": [],
   "source": []
  }
 ],
 "metadata": {
  "kernelspec": {
   "display_name": "Python 3 (ipykernel)",
   "language": "python",
   "name": "python3"
  },
  "language_info": {
   "codemirror_mode": {
    "name": "ipython",
    "version": 3
   },
   "file_extension": ".py",
   "mimetype": "text/x-python",
   "name": "python",
   "nbconvert_exporter": "python",
   "pygments_lexer": "ipython3",
   "version": "3.13.7"
  }
 },
 "nbformat": 4,
 "nbformat_minor": 5
}
