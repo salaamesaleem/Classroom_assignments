{
 "cells": [
  {
   "cell_type": "code",
   "execution_count": 1,
   "id": "7b6e2cb3-fe00-4ce5-8af9-c453da8a790e",
   "metadata": {},
   "outputs": [],
   "source": [
    "# tuple doesn't change, main differ"
   ]
  },
  {
   "cell_type": "code",
   "execution_count": null,
   "id": "ea448bb3-8b5b-4a8c-8287-f317462bbe77",
   "metadata": {},
   "outputs": [],
   "source": []
  }
 ],
 "metadata": {
  "kernelspec": {
   "display_name": "Python 3 (ipykernel)",
   "language": "python",
   "name": "python3"
  },
  "language_info": {
   "codemirror_mode": {
    "name": "ipython",
    "version": 3
   },
   "file_extension": ".py",
   "mimetype": "text/x-python",
   "name": "python",
   "nbconvert_exporter": "python",
   "pygments_lexer": "ipython3",
   "version": "3.13.7"
  }
 },
 "nbformat": 4,
 "nbformat_minor": 5
}
