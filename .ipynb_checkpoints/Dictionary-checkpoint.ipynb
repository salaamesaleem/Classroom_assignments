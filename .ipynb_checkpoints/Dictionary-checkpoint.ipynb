{
 "cells": [
  {
   "cell_type": "code",
   "execution_count": 1,
   "id": "941671a3-913a-42da-b7fd-2010c8e628df",
   "metadata": {},
   "outputs": [],
   "source": [
    "# miss sumaira didn't send data. please follow up."
   ]
  },
  {
   "cell_type": "code",
   "execution_count": 3,
   "id": "92d210b0-1668-4b32-9b95-6e0bcbe11d95",
   "metadata": {},
   "outputs": [],
   "source": [
    "fdict={'a':'apple','b':'banana','c':'cherry','d':'dragon'}"
   ]
  },
  {
   "cell_type": "code",
   "execution_count": 7,
   "id": "df3d00a0-92e0-4fa8-ac24-6968022ed095",
   "metadata": {},
   "outputs": [
    {
     "data": {
      "text/plain": [
       "'apple'"
      ]
     },
     "execution_count": 7,
     "metadata": {},
     "output_type": "execute_result"
    }
   ],
   "source": [
    "fdict['a']"
   ]
  },
  {
   "cell_type": "code",
   "execution_count": null,
   "id": "79c60efa-79be-49ba-98d7-6393b59ee13c",
   "metadata": {},
   "outputs": [],
   "source": []
  }
 ],
 "metadata": {
  "kernelspec": {
   "display_name": "Python 3 (ipykernel)",
   "language": "python",
   "name": "python3"
  },
  "language_info": {
   "codemirror_mode": {
    "name": "ipython",
    "version": 3
   },
   "file_extension": ".py",
   "mimetype": "text/x-python",
   "name": "python",
   "nbconvert_exporter": "python",
   "pygments_lexer": "ipython3",
   "version": "3.13.7"
  }
 },
 "nbformat": 4,
 "nbformat_minor": 5
}
