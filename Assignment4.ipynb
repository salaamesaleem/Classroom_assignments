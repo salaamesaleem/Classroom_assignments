{
 "cells": [
  {
   "cell_type": "code",
   "execution_count": 1,
   "id": "e9e38e51-0022-48ba-bc4f-9ca8d9ab45d6",
   "metadata": {},
   "outputs": [],
   "source": [
    "# create a full arithmetic calculator\n",
    "# make 4 seprt files ( sum , minus , multiply and divid )\n",
    "# get input from user , also get operator\n",
    "# it should ask user to quit or not."
   ]
  },
  {
   "cell_type": "code",
   "execution_count": 2,
   "id": "a55a38a4-3e4e-4e63-96bc-29be1ae120ae",
   "metadata": {},
   "outputs": [],
   "source": [
    "def sum(*a):\n",
    "    l=[]\n",
    "    s = a + a\n",
    "    return s"
   ]
  },
  {
   "cell_type": "code",
   "execution_count": 3,
   "id": "f95efcbc-d85d-4e4c-be8f-d98c4d46d93b",
   "metadata": {},
   "outputs": [
    {
     "data": {
      "text/plain": [
       "(2, 3, 5, 2, 3, 5)"
      ]
     },
     "execution_count": 3,
     "metadata": {},
     "output_type": "execute_result"
    }
   ],
   "source": [
    "sum(2,3,5)"
   ]
  },
  {
   "cell_type": "code",
   "execution_count": 3,
   "id": "0c39ca1f-c5d0-4e82-9c5a-261b69145aa2",
   "metadata": {},
   "outputs": [],
   "source": [
    "def callname(name):\n",
    "    return f'Welcome at home  {name}'"
   ]
  },
  {
   "cell_type": "code",
   "execution_count": 6,
   "id": "145c13b3-f230-411c-ba23-56cc80c80a17",
   "metadata": {},
   "outputs": [
    {
     "data": {
      "text/plain": [
       "'Welcome at home  saleem'"
      ]
     },
     "execution_count": 6,
     "metadata": {},
     "output_type": "execute_result"
    }
   ],
   "source": [
    "callname('saleem')"
   ]
  },
  {
   "cell_type": "code",
   "execution_count": 12,
   "id": "7611d87f-82e2-4a0f-ab9a-8390bdc4f582",
   "metadata": {},
   "outputs": [],
   "source": [
    "def sum(a,b):\n",
    "    s = a + b\n",
    "    return s"
   ]
  },
  {
   "cell_type": "code",
   "execution_count": 13,
   "id": "d75957b3-2ba6-4df1-b907-263f9109a673",
   "metadata": {},
   "outputs": [
    {
     "data": {
      "text/plain": [
       "8"
      ]
     },
     "execution_count": 13,
     "metadata": {},
     "output_type": "execute_result"
    }
   ],
   "source": [
    "sum( 2 , 6)"
   ]
  },
  {
   "cell_type": "code",
   "execution_count": 9,
   "id": "d2e1165f-08a3-43a5-a00f-a4872cd9d5b4",
   "metadata": {},
   "outputs": [
    {
     "data": {
      "text/plain": [
       "198"
      ]
     },
     "execution_count": 9,
     "metadata": {},
     "output_type": "execute_result"
    }
   ],
   "source": [
    "sum(96 , 102)"
   ]
  },
  {
   "cell_type": "code",
   "execution_count": null,
   "id": "a50c1860-af58-4a3b-98d2-cd4c9b4488c0",
   "metadata": {},
   "outputs": [],
   "source": []
  }
 ],
 "metadata": {
  "kernelspec": {
   "display_name": "Python 3 (ipykernel)",
   "language": "python",
   "name": "python3"
  },
  "language_info": {
   "codemirror_mode": {
    "name": "ipython",
    "version": 3
   },
   "file_extension": ".py",
   "mimetype": "text/x-python",
   "name": "python",
   "nbconvert_exporter": "python",
   "pygments_lexer": "ipython3",
   "version": "3.13.7"
  }
 },
 "nbformat": 4,
 "nbformat_minor": 5
}
