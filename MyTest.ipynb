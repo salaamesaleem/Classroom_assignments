{
 "cells": [
  {
   "cell_type": "code",
   "execution_count": 96,
   "id": "21739fe3-0963-4e9d-b683-1f0edcd2de29",
   "metadata": {},
   "outputs": [],
   "source": [
    "\n",
    "import pandas as pd"
   ]
  },
  {
   "cell_type": "code",
   "execution_count": 132,
   "id": "6cec1fe6-d389-44e8-b777-9eee25af08b4",
   "metadata": {},
   "outputs": [],
   "source": [
    "import numpy as np"
   ]
  },
  {
   "cell_type": "code",
   "execution_count": 156,
   "id": "a6200856-5762-4142-82ef-ee43b60ab047",
   "metadata": {},
   "outputs": [
    {
     "name": "stdout",
     "output_type": "stream",
     "text": [
      "Sr#              50\n",
      "Product_Code1    50\n",
      "narrative1       50\n",
      "FirstDate        50\n",
      "LastDate         50\n",
      "Total OLD        20\n",
      "Secured/Unsec    30\n",
      "Product -1       30\n",
      "Product -2       50\n",
      "Unnamed: 9        2\n",
      "Unnamed: 10       0\n",
      "Unnamed: 11       0\n",
      "cata             50\n",
      "dtype: int64\n"
     ]
    }
   ],
   "source": [
    "data = pd.read_csv(r\"List.csv\")\n",
    "#data['narrative1']\n",
    "#data=data.DataFrame(data)\n",
    "vcf = data['narrative1'].str.contains('vcf' ,case = False , na = False )\n",
    "gold= data['narrative1'].str.contains('gold' , case = False , na = False )\n",
    "agr = data['narrative1'].str.contains('agr' , case = False , na = False )\n",
    "\n",
    "comb = vcf | gold | agr\n",
    "\n",
    "condition = [vcf  , gold , agr]\n",
    "choice = ['vcf' , 'gold' , 'agr']\n",
    "defvalue = 'other'\n",
    "\n",
    "data['cata']= np.select (condition , choice , default = defvalue)\n",
    "count = data[comb].count()\n",
    "#print (data[comb])\n",
    "#print (data)\n",
    "print (count)"
   ]
  },
  {
   "cell_type": "code",
   "execution_count": 148,
   "id": "c25a6e24-f7ac-41a4-85fd-dd7054e3ca9b",
   "metadata": {},
   "outputs": [
    {
     "name": "stdout",
     "output_type": "stream",
     "text": [
      "       Sr# Product_Code1                             narrative1   FirstDate  \\\n",
      "0      1.0         ARFEL         APNA AGR RF LIMIT ENT NEW LIEN  26/03/2019   \n",
      "1      2.0        ABTFUR    APNA AGRI BULLET LOAN - REPEAT LOAN  23/06/2021   \n",
      "2      3.0        AABTFN         APNA AGRI BULLET LOAN NEW/LIEN  21/01/2020   \n",
      "3      4.0        AABTFU             APNA AGRI BULLET UNSECURED  21/01/2020   \n",
      "4      5.0        AABTFE             APNA AGRI BULLTET ENT/LIEN  01/02/2020   \n",
      "..     ...           ...                                    ...         ...   \n",
      "133  134.0        VCJTRE  VCF JASKANI TRADERS RF ENTERPRISE NEW  20/12/2017   \n",
      "134  135.0        VCSTRE                 VCF SAIM TRADER RF ENT  29/08/2018   \n",
      "135  136.0         AULRF     APNA UNSECURED RESTRUCTURED RF NEW  07/09/2022   \n",
      "136    NaN        AULRFR       APNA Unsecured Loans RF (Repeat)         NaN   \n",
      "137    NaN        AULTFR       APNA Unsecured Loans TF (Repeat)         NaN   \n",
      "\n",
      "       LastDate Total OLD Secured/Unsec      Product -1  \\\n",
      "0    09/03/2022       NaN      Secured     AGRI-SECURED   \n",
      "1    09/03/2022       NaN    Unsecured   AGRI-UNSECURED   \n",
      "2    21/01/2020       NaN      Secured           BULLET   \n",
      "3    09/03/2022       NaN    Unsecured           BULLET   \n",
      "4    01/02/2020       NaN      Secured     AGRI-SECURED   \n",
      "..          ...       ...           ...             ...   \n",
      "133  09/03/2022       OLD           NaN             NaN   \n",
      "134  09/03/2022       OLD           NaN             NaN   \n",
      "135  07/09/2022       NaN    Unsecured     Restructured   \n",
      "136         NaN       NaN    Unsecured     RF-Unsecured   \n",
      "137         NaN       NaN    Unsecured     TF-Unsecured   \n",
      "\n",
      "                 Product -2 Unnamed: 9  Unnamed: 10 Unnamed: 11 catagory  \n",
      "0              Agri-Secured        NaN          NaN         NaN      agr  \n",
      "1          Bullet-Unsecured        NaN          NaN         NaN      agr  \n",
      "2          Bullet-Unsecured        NaN          NaN         NaN      agr  \n",
      "3          Bullet-Unsecured        NaN          NaN         NaN      agr  \n",
      "4          Bullet-Unsecured        NaN          NaN         NaN      agr  \n",
      "..                      ...        ...          ...         ...      ...  \n",
      "133                     OLD        NaN          NaN         NaN      vcf  \n",
      "134                     OLD        NaN          NaN         NaN      vcf  \n",
      "135  Restructured-Unsecured        NaN          NaN         NaN    other  \n",
      "136     RF-Unsecured Repeat        NaN          NaN         NaN    other  \n",
      "137     TF-Unsecured Repeat        NaN          NaN         NaN    other  \n",
      "\n",
      "[138 rows x 13 columns]\n"
     ]
    }
   ],
   "source": [
    "\n",
    "import numpy as np\n",
    "import pandas as pd\n",
    "df = pd.read_csv(r\"List.csv\")\n",
    "condition_vcf = df['narrative1'].str.contains(\"vcf\",case=False,na=False)\n",
    "#condition_gold = df['narrative1'].str.contains(\"gold\",case=False,na=False)\n",
    "#condition_agr = df['narrative1'].str.contains(\"agr\",case=False,na=False)\n",
    "#comb = condition_vcf | condition_gold | condition_agr\n",
    "\n",
    "condition = [condition_vcf,condition_gold,condition_agr]\n",
    "choice = ['vcf','gold','agr']\n",
    "defvalue ='other'\n",
    "df['catagory']=np.select(condition , choice , default = defvalue)\n",
    "\n",
    "#df_filtered = df[comb]\n",
    "#print(df_filtered)\n",
    "print(df)"
   ]
  },
  {
   "cell_type": "code",
   "execution_count": 9,
   "id": "ce6b941c-cc11-4b7b-9907-e6e432fe4be2",
   "metadata": {},
   "outputs": [
    {
     "data": {
      "text/html": [
       "<div>\n",
       "<style scoped>\n",
       "    .dataframe tbody tr th:only-of-type {\n",
       "        vertical-align: middle;\n",
       "    }\n",
       "\n",
       "    .dataframe tbody tr th {\n",
       "        vertical-align: top;\n",
       "    }\n",
       "\n",
       "    .dataframe thead th {\n",
       "        text-align: right;\n",
       "    }\n",
       "</style>\n",
       "<table border=\"1\" class=\"dataframe\">\n",
       "  <thead>\n",
       "    <tr style=\"text-align: right;\">\n",
       "      <th></th>\n",
       "      <th>Sr#</th>\n",
       "      <th>Product_Code1</th>\n",
       "      <th>narrative1</th>\n",
       "      <th>FirstDate</th>\n",
       "      <th>LastDate</th>\n",
       "      <th>Total OLD</th>\n",
       "      <th>Secured/Unsec</th>\n",
       "      <th>Product -1</th>\n",
       "      <th>Product -2</th>\n",
       "      <th>Unnamed: 9</th>\n",
       "      <th>Unnamed: 10</th>\n",
       "      <th>Unnamed: 11</th>\n",
       "    </tr>\n",
       "  </thead>\n",
       "  <tbody>\n",
       "    <tr>\n",
       "      <th>0</th>\n",
       "      <td>1.0</td>\n",
       "      <td>ARFEL</td>\n",
       "      <td>APNA AGR RF LIMIT ENT NEW LIEN</td>\n",
       "      <td>26/03/2019</td>\n",
       "      <td>09/03/2022</td>\n",
       "      <td>NaN</td>\n",
       "      <td>Secured</td>\n",
       "      <td>AGRI-SECURED</td>\n",
       "      <td>Agri-Secured</td>\n",
       "      <td>NaN</td>\n",
       "      <td>NaN</td>\n",
       "      <td>NaN</td>\n",
       "    </tr>\n",
       "    <tr>\n",
       "      <th>1</th>\n",
       "      <td>2.0</td>\n",
       "      <td>ABTFUR</td>\n",
       "      <td>APNA AGRI BULLET LOAN - REPEAT LOAN</td>\n",
       "      <td>23/06/2021</td>\n",
       "      <td>09/03/2022</td>\n",
       "      <td>NaN</td>\n",
       "      <td>Unsecured</td>\n",
       "      <td>AGRI-UNSECURED</td>\n",
       "      <td>Bullet-Unsecured</td>\n",
       "      <td>NaN</td>\n",
       "      <td>NaN</td>\n",
       "      <td>NaN</td>\n",
       "    </tr>\n",
       "    <tr>\n",
       "      <th>2</th>\n",
       "      <td>3.0</td>\n",
       "      <td>AABTFN</td>\n",
       "      <td>APNA AGRI BULLET LOAN NEW/LIEN</td>\n",
       "      <td>21/01/2020</td>\n",
       "      <td>21/01/2020</td>\n",
       "      <td>NaN</td>\n",
       "      <td>Secured</td>\n",
       "      <td>BULLET</td>\n",
       "      <td>Bullet-Unsecured</td>\n",
       "      <td>NaN</td>\n",
       "      <td>NaN</td>\n",
       "      <td>NaN</td>\n",
       "    </tr>\n",
       "    <tr>\n",
       "      <th>3</th>\n",
       "      <td>4.0</td>\n",
       "      <td>AABTFU</td>\n",
       "      <td>APNA AGRI BULLET UNSECURED</td>\n",
       "      <td>21/01/2020</td>\n",
       "      <td>09/03/2022</td>\n",
       "      <td>NaN</td>\n",
       "      <td>Unsecured</td>\n",
       "      <td>BULLET</td>\n",
       "      <td>Bullet-Unsecured</td>\n",
       "      <td>NaN</td>\n",
       "      <td>NaN</td>\n",
       "      <td>NaN</td>\n",
       "    </tr>\n",
       "    <tr>\n",
       "      <th>4</th>\n",
       "      <td>5.0</td>\n",
       "      <td>AABTFE</td>\n",
       "      <td>APNA AGRI BULLTET ENT/LIEN</td>\n",
       "      <td>01/02/2020</td>\n",
       "      <td>01/02/2020</td>\n",
       "      <td>NaN</td>\n",
       "      <td>Secured</td>\n",
       "      <td>AGRI-SECURED</td>\n",
       "      <td>Bullet-Unsecured</td>\n",
       "      <td>NaN</td>\n",
       "      <td>NaN</td>\n",
       "      <td>NaN</td>\n",
       "    </tr>\n",
       "  </tbody>\n",
       "</table>\n",
       "</div>"
      ],
      "text/plain": [
       "   Sr# Product_Code1                           narrative1   FirstDate  \\\n",
       "0  1.0         ARFEL       APNA AGR RF LIMIT ENT NEW LIEN  26/03/2019   \n",
       "1  2.0        ABTFUR  APNA AGRI BULLET LOAN - REPEAT LOAN  23/06/2021   \n",
       "2  3.0        AABTFN       APNA AGRI BULLET LOAN NEW/LIEN  21/01/2020   \n",
       "3  4.0        AABTFU           APNA AGRI BULLET UNSECURED  21/01/2020   \n",
       "4  5.0        AABTFE           APNA AGRI BULLTET ENT/LIEN  01/02/2020   \n",
       "\n",
       "     LastDate Total OLD Secured/Unsec      Product -1        Product -2  \\\n",
       "0  09/03/2022       NaN      Secured     AGRI-SECURED      Agri-Secured   \n",
       "1  09/03/2022       NaN    Unsecured   AGRI-UNSECURED  Bullet-Unsecured   \n",
       "2  21/01/2020       NaN      Secured           BULLET  Bullet-Unsecured   \n",
       "3  09/03/2022       NaN    Unsecured           BULLET  Bullet-Unsecured   \n",
       "4  01/02/2020       NaN      Secured     AGRI-SECURED  Bullet-Unsecured   \n",
       "\n",
       "  Unnamed: 9  Unnamed: 10 Unnamed: 11  \n",
       "0        NaN          NaN         NaN  \n",
       "1        NaN          NaN         NaN  \n",
       "2        NaN          NaN         NaN  \n",
       "3        NaN          NaN         NaN  \n",
       "4        NaN          NaN         NaN  "
      ]
     },
     "execution_count": 9,
     "metadata": {},
     "output_type": "execute_result"
    }
   ],
   "source": [
    "pd.head()"
   ]
  },
  {
   "cell_type": "code",
   "execution_count": 16,
   "id": "b3c96b93-14f9-4b61-800a-f95c0ca52e3d",
   "metadata": {},
   "outputs": [],
   "source": [
    "sr=pd['narrative1']"
   ]
  },
  {
   "cell_type": "code",
   "execution_count": 142,
   "id": "ababfc18-53ba-49fc-b3a2-09bca81c5264",
   "metadata": {},
   "outputs": [
    {
     "ename": "_IncompleteInputError",
     "evalue": "incomplete input (1582487731.py, line 2)",
     "output_type": "error",
     "traceback": [
      "  \u001b[36mCell\u001b[39m\u001b[36m \u001b[39m\u001b[32mIn[142]\u001b[39m\u001b[32m, line 2\u001b[39m\n\u001b[31m    \u001b[39m\u001b[31m#print (i)\u001b[39m\n              ^\n\u001b[31m_IncompleteInputError\u001b[39m\u001b[31m:\u001b[39m incomplete input\n"
     ]
    }
   ],
   "source": [
    "for i in sr:\n",
    "    #print (i)"
   ]
  },
  {
   "cell_type": "code",
   "execution_count": 38,
   "id": "d7a94834-da5a-4dfd-9f00-22a37fad1f95",
   "metadata": {},
   "outputs": [
    {
     "ename": "AttributeError",
     "evalue": "'DataFrame' object has no attribute 'read_csv'",
     "output_type": "error",
     "traceback": [
      "\u001b[31m---------------------------------------------------------------------------\u001b[39m",
      "\u001b[31mAttributeError\u001b[39m                            Traceback (most recent call last)",
      "\u001b[32m~\\AppData\\Local\\Temp\\ipykernel_18644\\1522948133.py\u001b[39m in \u001b[36m?\u001b[39m\u001b[34m()\u001b[39m\n\u001b[32m----> \u001b[39m\u001b[32m1\u001b[39m col = pd.read_csv(\u001b[33mr\"List.csv\"\u001b[39m)\n\u001b[32m      2\u001b[39m pd = col.DataFrame(col)\n\u001b[32m      3\u001b[39m nar= pd[\u001b[33m'narrative1'\u001b[39m]\n\u001b[32m      4\u001b[39m agr  = \u001b[33m'agr'\u001b[39m\n",
      "\u001b[32m~\\AppData\\Local\\Programs\\Python\\Python313\\Lib\\site-packages\\pandas\\core\\generic.py\u001b[39m in \u001b[36m?\u001b[39m\u001b[34m(self, name)\u001b[39m\n\u001b[32m   6314\u001b[39m             \u001b[38;5;28;01mand\u001b[39;00m name \u001b[38;5;28;01mnot\u001b[39;00m \u001b[38;5;28;01min\u001b[39;00m self._accessors\n\u001b[32m   6315\u001b[39m             \u001b[38;5;28;01mand\u001b[39;00m self._info_axis._can_hold_identifiers_and_holds_name(name)\n\u001b[32m   6316\u001b[39m         ):\n\u001b[32m   6317\u001b[39m             \u001b[38;5;28;01mreturn\u001b[39;00m self[name]\n\u001b[32m-> \u001b[39m\u001b[32m6318\u001b[39m         \u001b[38;5;28;01mreturn\u001b[39;00m object.__getattribute__(self, name)\n",
      "\u001b[31mAttributeError\u001b[39m: 'DataFrame' object has no attribute 'read_csv'"
     ]
    }
   ],
   "source": [
    "col = pd.read_csv(r\"List.csv\")\n",
    "pd = col.DataFrame(col)\n",
    "nar= pd['narrative1']\n",
    "agr  = 'agr'\n",
    "result = nar.str.upper()== agr.upper()\n",
    "\n",
    "print(result)"
   ]
  },
  {
   "cell_type": "code",
   "execution_count": null,
   "id": "053f31ef-8826-4c07-bece-8b064aa2a1f8",
   "metadata": {},
   "outputs": [],
   "source": []
  }
 ],
 "metadata": {
  "kernelspec": {
   "display_name": "Python 3 (ipykernel)",
   "language": "python",
   "name": "python3"
  },
  "language_info": {
   "codemirror_mode": {
    "name": "ipython",
    "version": 3
   },
   "file_extension": ".py",
   "mimetype": "text/x-python",
   "name": "python",
   "nbconvert_exporter": "python",
   "pygments_lexer": "ipython3",
   "version": "3.13.7"
  }
 },
 "nbformat": 4,
 "nbformat_minor": 5
}
